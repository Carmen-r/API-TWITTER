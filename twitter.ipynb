{
 "cells": [
  {
   "cell_type": "code",
   "execution_count": 1,
   "id": "409fe32d",
   "metadata": {},
   "outputs": [],
   "source": [
    "import tweepy\n",
    "import os\n",
    "from dotenv import load_dotenv\n",
    "#activamos el entorno para poder conectar el jupyter y extraer las variables\n",
    "load_dotenv()\n",
    "import pandas as pd\n",
    "import re\n",
    "from textblob import TextBlob\n",
    "import nltk\n",
    "from nltk.corpus import stopwords\n",
    "from wordcloud import WordCloud, STOPWORDS\n",
    "import matplotlib.pyplot as plt"
   ]
  },
  {
   "cell_type": "code",
   "execution_count": 2,
   "id": "7493c42a",
   "metadata": {},
   "outputs": [],
   "source": [
    "API_KEY = os.getenv(\"API_KEY\")\n",
    "API_SECRET = os.getenv(\"API_SECRET\")\n",
    "ACCESS_TOKEN = os.getenv(\"ACCESS_TOKEN\")\n",
    "ACCESS_TOKEN_SECRET = os.getenv(\"ACCESS_TOKEN_SECRET\")"
   ]
  },
  {
   "cell_type": "code",
   "execution_count": 3,
   "id": "ba58813d",
   "metadata": {},
   "outputs": [],
   "source": [
    "auth = tweepy.OAuthHandler(API_KEY, API_SECRET) #Esta es la forma de autenticarnos mediante tweepy\n",
    "auth.set_access_token(ACCESS_TOKEN, ACCESS_TOKEN_SECRET) \n",
    "api = tweepy.API(auth)"
   ]
  },
  {
   "cell_type": "code",
   "execution_count": 4,
   "id": "b0c73dad",
   "metadata": {},
   "outputs": [
    {
     "data": {
      "text/plain": [
       "{'auth': <tweepy.auth.OAuthHandler at 0x7fdc65c6ab50>,\n",
       " 'host': 'api.twitter.com',\n",
       " 'search_host': 'search.twitter.com',\n",
       " 'upload_host': 'upload.twitter.com',\n",
       " 'api_root': '/1.1',\n",
       " 'search_root': '',\n",
       " 'upload_root': '/1.1',\n",
       " 'cache': None,\n",
       " 'compression': False,\n",
       " 'retry_count': 0,\n",
       " 'retry_delay': 0,\n",
       " 'retry_errors': None,\n",
       " 'timeout': 60,\n",
       " 'wait_on_rate_limit': False,\n",
       " 'wait_on_rate_limit_notify': False,\n",
       " 'parser': <tweepy.parsers.ModelParser at 0x7fdc65c6a370>,\n",
       " 'proxy': {}}"
      ]
     },
     "execution_count": 4,
     "metadata": {},
     "output_type": "execute_result"
    }
   ],
   "source": [
    "api.__dict__"
   ]
  },
  {
   "cell_type": "code",
   "execution_count": 5,
   "id": "2b81f0a3",
   "metadata": {},
   "outputs": [
    {
     "name": "stdout",
     "output_type": "stream",
     "text": [
      "Requirement already satisfied: requests[security] in /usr/local/Caskroom/miniconda/base/envs/ironhack/lib/python3.8/site-packages (2.25.1)\n",
      "Requirement already satisfied: chardet<5,>=3.0.2 in /usr/local/Caskroom/miniconda/base/envs/ironhack/lib/python3.8/site-packages (from requests[security]) (4.0.0)\n",
      "Requirement already satisfied: certifi>=2017.4.17 in /usr/local/Caskroom/miniconda/base/envs/ironhack/lib/python3.8/site-packages (from requests[security]) (2020.6.20)\n",
      "Requirement already satisfied: idna<3,>=2.5 in /usr/local/Caskroom/miniconda/base/envs/ironhack/lib/python3.8/site-packages (from requests[security]) (2.10)\n",
      "Requirement already satisfied: urllib3<1.27,>=1.21.1 in /usr/local/Caskroom/miniconda/base/envs/ironhack/lib/python3.8/site-packages (from requests[security]) (1.26.4)\n",
      "Requirement already satisfied: pyOpenSSL>=0.14 in /usr/local/Caskroom/miniconda/base/envs/ironhack/lib/python3.8/site-packages (from requests[security]) (20.0.1)\n",
      "Requirement already satisfied: cryptography>=1.3.4 in /usr/local/Caskroom/miniconda/base/envs/ironhack/lib/python3.8/site-packages (from requests[security]) (3.4.7)\n",
      "Requirement already satisfied: cffi>=1.12 in /usr/local/Caskroom/miniconda/base/envs/ironhack/lib/python3.8/site-packages (from cryptography>=1.3.4->requests[security]) (1.14.5)\n",
      "Requirement already satisfied: pycparser in /usr/local/Caskroom/miniconda/base/envs/ironhack/lib/python3.8/site-packages (from cffi>=1.12->cryptography>=1.3.4->requests[security]) (2.20)\n",
      "Requirement already satisfied: six>=1.5.2 in /usr/local/Caskroom/miniconda/base/envs/ironhack/lib/python3.8/site-packages (from pyOpenSSL>=0.14->requests[security]) (1.15.0)\n"
     ]
    }
   ],
   "source": [
    "!pip install \"requests[security]\""
   ]
  },
  {
   "cell_type": "code",
   "execution_count": 6,
   "id": "ee81a950",
   "metadata": {},
   "outputs": [
    {
     "name": "stdout",
     "output_type": "stream",
     "text": [
      "Empty DataFrame\n",
      "Columns: [Date, User, IsVerified, Tweet, Likes, RT, User_location]\n",
      "Index: []\n"
     ]
    }
   ],
   "source": [
    "df = pd.DataFrame(columns=[\"Date\",\"User\",\"IsVerified\",\"Tweet\",\"Likes\",\"RT\",'User_location'])\n",
    "print(df)"
   ]
  },
  {
   "cell_type": "code",
   "execution_count": null,
   "id": "c88deefa",
   "metadata": {},
   "outputs": [],
   "source": [
    "Topic=[\"covid\"]\n",
    "a = tweepy.Cursor(api.search, q=Topic,count=100, lang=\"en\",exclude='retweets').items()\n",
    "for i in a:\n",
    "    print(i._json)"
   ]
  },
  {
   "cell_type": "code",
   "execution_count": null,
   "id": "b5d9931a",
   "metadata": {},
   "outputs": [],
   "source": []
  },
  {
   "cell_type": "code",
   "execution_count": 7,
   "id": "39c26cc3",
   "metadata": {},
   "outputs": [],
   "source": [
    "## **tweepy.cursor()** because we want to extract a larger number of tweets\n",
    "def get_tweets(Topic,Count):    \n",
    "    i=0\n",
    "    for tweet in tweepy.Cursor(api.search, q=Topic,count=100, lang=\"en\",exclude='retweets').items():\n",
    "        df.loc[i,\"Date\"] = tweet.created_at\n",
    "        df.loc[i,\"User\"] = tweet.user.name\n",
    "        df.loc[i,\"IsVerified\"] = tweet.user.verified\n",
    "        df.loc[i,\"Tweet\"] = tweet.text\n",
    "        df.loc[i,\"Likes\"] = tweet.favorite_count\n",
    "        df.loc[i,\"RT\"] = tweet.retweet_count\n",
    "        df.loc[i,\"User_location\"] = tweet.user.location\n",
    "        #df.to_csv(\"TweetDataset.csv\",index=False)\n",
    "        df.to_csv('{}.xlsx'.format(\"TweetDataset\"),index=False)  \n",
    "        i=i+1\n",
    "        if i>Count:\n",
    "            break\n",
    "        else:\n",
    "            pass"
   ]
  },
  {
   "cell_type": "code",
   "execution_count": 8,
   "id": "63f66e42",
   "metadata": {},
   "outputs": [],
   "source": [
    "Topic=[\"covid\"]\n",
    "get_tweets(Topic , Count=100)"
   ]
  },
  {
   "cell_type": "code",
   "execution_count": 9,
   "id": "c061b394",
   "metadata": {},
   "outputs": [
    {
     "data": {
      "text/html": [
       "<div>\n",
       "<style scoped>\n",
       "    .dataframe tbody tr th:only-of-type {\n",
       "        vertical-align: middle;\n",
       "    }\n",
       "\n",
       "    .dataframe tbody tr th {\n",
       "        vertical-align: top;\n",
       "    }\n",
       "\n",
       "    .dataframe thead th {\n",
       "        text-align: right;\n",
       "    }\n",
       "</style>\n",
       "<table border=\"1\" class=\"dataframe\">\n",
       "  <thead>\n",
       "    <tr style=\"text-align: right;\">\n",
       "      <th></th>\n",
       "      <th>Date</th>\n",
       "      <th>User</th>\n",
       "      <th>IsVerified</th>\n",
       "      <th>Tweet</th>\n",
       "      <th>Likes</th>\n",
       "      <th>RT</th>\n",
       "      <th>User_location</th>\n",
       "    </tr>\n",
       "  </thead>\n",
       "  <tbody>\n",
       "    <tr>\n",
       "      <th>0</th>\n",
       "      <td>2021-06-07 16:35:14</td>\n",
       "      <td>colleen</td>\n",
       "      <td>False</td>\n",
       "      <td>@JAIISAMS man like i worked from home last yea...</td>\n",
       "      <td>0</td>\n",
       "      <td>0</td>\n",
       "      <td></td>\n",
       "    </tr>\n",
       "    <tr>\n",
       "      <th>1</th>\n",
       "      <td>2021-06-07 16:35:13</td>\n",
       "      <td>Cerco Response</td>\n",
       "      <td>False</td>\n",
       "      <td>The number of young people out of work has rea...</td>\n",
       "      <td>0</td>\n",
       "      <td>0</td>\n",
       "      <td></td>\n",
       "    </tr>\n",
       "    <tr>\n",
       "      <th>2</th>\n",
       "      <td>2021-06-07 16:35:13</td>\n",
       "      <td>Naveen Kapoor ANI</td>\n",
       "      <td>True</td>\n",
       "      <td>This is an achievement of US admin .. getting ...</td>\n",
       "      <td>0</td>\n",
       "      <td>0</td>\n",
       "      <td>New Delhi, India</td>\n",
       "    </tr>\n",
       "    <tr>\n",
       "      <th>3</th>\n",
       "      <td>2021-06-07 16:35:13</td>\n",
       "      <td>Nurul 🐥🌅</td>\n",
       "      <td>False</td>\n",
       "      <td>Thank you buat spaceeeee aaa rindu nk kumpul s...</td>\n",
       "      <td>0</td>\n",
       "      <td>0</td>\n",
       "      <td>Malaysia</td>\n",
       "    </tr>\n",
       "    <tr>\n",
       "      <th>4</th>\n",
       "      <td>2021-06-07 16:35:12</td>\n",
       "      <td>Thailand epilepsy</td>\n",
       "      <td>False</td>\n",
       "      <td>COVID 19 Vaccination and Epilepsy   SD 480p ht...</td>\n",
       "      <td>0</td>\n",
       "      <td>0</td>\n",
       "      <td>Epilepsy, BANGKOK, THAILAND</td>\n",
       "    </tr>\n",
       "    <tr>\n",
       "      <th>...</th>\n",
       "      <td>...</td>\n",
       "      <td>...</td>\n",
       "      <td>...</td>\n",
       "      <td>...</td>\n",
       "      <td>...</td>\n",
       "      <td>...</td>\n",
       "      <td>...</td>\n",
       "    </tr>\n",
       "    <tr>\n",
       "      <th>96</th>\n",
       "      <td>2021-06-07 16:34:47</td>\n",
       "      <td>Prabha 🇨🇮💐🌻</td>\n",
       "      <td>False</td>\n",
       "      <td>We can only #tweet or #Retweet or #comment upo...</td>\n",
       "      <td>0</td>\n",
       "      <td>0</td>\n",
       "      <td>New Delhi, India</td>\n",
       "    </tr>\n",
       "    <tr>\n",
       "      <th>97</th>\n",
       "      <td>2021-06-07 16:34:47</td>\n",
       "      <td>Dahlia Wakeman</td>\n",
       "      <td>False</td>\n",
       "      <td>@jamft Are you comparing the 215 children’s bo...</td>\n",
       "      <td>0</td>\n",
       "      <td>0</td>\n",
       "      <td></td>\n",
       "    </tr>\n",
       "    <tr>\n",
       "      <th>98</th>\n",
       "      <td>2021-06-07 16:34:46</td>\n",
       "      <td>Rajeev Godara</td>\n",
       "      <td>False</td>\n",
       "      <td>Supreme Court said and how the Prime Minister ...</td>\n",
       "      <td>0</td>\n",
       "      <td>0</td>\n",
       "      <td>Chandigarh, India</td>\n",
       "    </tr>\n",
       "    <tr>\n",
       "      <th>99</th>\n",
       "      <td>2021-06-07 16:34:46</td>\n",
       "      <td>ILee WINS</td>\n",
       "      <td>False</td>\n",
       "      <td>BREAKING: @NYGovCuomo to lift remaining COVID ...</td>\n",
       "      <td>0</td>\n",
       "      <td>0</td>\n",
       "      <td></td>\n",
       "    </tr>\n",
       "    <tr>\n",
       "      <th>100</th>\n",
       "      <td>2021-06-07 16:34:45</td>\n",
       "      <td>S. C. Morgan</td>\n",
       "      <td>False</td>\n",
       "      <td>@JaeMargal Full week at work this time around....</td>\n",
       "      <td>0</td>\n",
       "      <td>0</td>\n",
       "      <td>Burlington, Ontario</td>\n",
       "    </tr>\n",
       "  </tbody>\n",
       "</table>\n",
       "<p>101 rows × 7 columns</p>\n",
       "</div>"
      ],
      "text/plain": [
       "                    Date               User IsVerified  \\\n",
       "0    2021-06-07 16:35:14            colleen      False   \n",
       "1    2021-06-07 16:35:13     Cerco Response      False   \n",
       "2    2021-06-07 16:35:13  Naveen Kapoor ANI       True   \n",
       "3    2021-06-07 16:35:13           Nurul 🐥🌅      False   \n",
       "4    2021-06-07 16:35:12  Thailand epilepsy      False   \n",
       "..                   ...                ...        ...   \n",
       "96   2021-06-07 16:34:47        Prabha 🇨🇮💐🌻      False   \n",
       "97   2021-06-07 16:34:47     Dahlia Wakeman      False   \n",
       "98   2021-06-07 16:34:46      Rajeev Godara      False   \n",
       "99   2021-06-07 16:34:46          ILee WINS      False   \n",
       "100  2021-06-07 16:34:45       S. C. Morgan      False   \n",
       "\n",
       "                                                 Tweet Likes RT  \\\n",
       "0    @JAIISAMS man like i worked from home last yea...     0  0   \n",
       "1    The number of young people out of work has rea...     0  0   \n",
       "2    This is an achievement of US admin .. getting ...     0  0   \n",
       "3    Thank you buat spaceeeee aaa rindu nk kumpul s...     0  0   \n",
       "4    COVID 19 Vaccination and Epilepsy   SD 480p ht...     0  0   \n",
       "..                                                 ...   ... ..   \n",
       "96   We can only #tweet or #Retweet or #comment upo...     0  0   \n",
       "97   @jamft Are you comparing the 215 children’s bo...     0  0   \n",
       "98   Supreme Court said and how the Prime Minister ...     0  0   \n",
       "99   BREAKING: @NYGovCuomo to lift remaining COVID ...     0  0   \n",
       "100  @JaeMargal Full week at work this time around....     0  0   \n",
       "\n",
       "                   User_location  \n",
       "0                                 \n",
       "1                                 \n",
       "2               New Delhi, India  \n",
       "3                       Malaysia  \n",
       "4    Epilepsy, BANGKOK, THAILAND  \n",
       "..                           ...  \n",
       "96              New Delhi, India  \n",
       "97                                \n",
       "98             Chandigarh, India  \n",
       "99                                \n",
       "100          Burlington, Ontario  \n",
       "\n",
       "[101 rows x 7 columns]"
      ]
     },
     "execution_count": 9,
     "metadata": {},
     "output_type": "execute_result"
    }
   ],
   "source": [
    "df"
   ]
  },
  {
   "cell_type": "markdown",
   "id": "6ee26376",
   "metadata": {},
   "source": [
    "## Analysis of the tweets"
   ]
  },
  {
   "cell_type": "markdown",
   "id": "35aae070",
   "metadata": {},
   "source": [
    " Function to Clean the Tweet."
   ]
  },
  {
   "cell_type": "code",
   "execution_count": 10,
   "id": "bfd04378",
   "metadata": {},
   "outputs": [],
   "source": [
    "def clean_tweet(tweet):\n",
    "    return ' '.join(re.sub('(@[A-Za-z0-9]+)|([^0-9A-Za-z \\t])|(\\w+:\\/\\/\\S+)|([RT])', ' ', str(tweet).lower()).split())\n",
    "\n",
    "# We only want the Text so :\n",
    "\n",
    "# (@[A-Za-z0-9]+)   : Delete Anything like @hello @Letsupgrade etc\n",
    "# ([^0-9A-Za-z \\t]) : Delete everything other than text,number,space,tabspace\n",
    "# (\\w+:\\/\\/\\S+)     : Delete https://\n",
    "# ([RT]) : Remove \"RT\" from the tweet"
   ]
  },
  {
   "cell_type": "code",
   "execution_count": 54,
   "id": "2a3822d8",
   "metadata": {},
   "outputs": [
    {
     "data": {
      "text/plain": [
       "'shipping disruptions why to order early covid has caused some shipping disruptions around the world'"
      ]
     },
     "execution_count": 54,
     "metadata": {},
     "output_type": "execute_result"
    }
   ],
   "source": [
    "clean_tweet(\"Shipping Disruptions- Why to order early\\n\\nCovid has caused some shipping disruptions around the world.\")"
   ]
  },
  {
   "cell_type": "markdown",
   "id": "c892ba53",
   "metadata": {},
   "source": [
    "Function to Analyze the Tweet."
   ]
  },
  {
   "cell_type": "code",
   "execution_count": 11,
   "id": "c63fe90a",
   "metadata": {},
   "outputs": [],
   "source": [
    "def analyze_sentiment(tweet):\n",
    "    analysis = TextBlob(tweet)\n",
    "    if analysis.sentiment.polarity > 0:\n",
    "        return 'Positive'\n",
    "    elif analysis.sentiment.polarity == 0:\n",
    "        return 'Neutral'\n",
    "    else:\n",
    "        return 'Negative'"
   ]
  },
  {
   "cell_type": "code",
   "execution_count": 12,
   "id": "da354462",
   "metadata": {},
   "outputs": [],
   "source": [
    "df[\"Tweet\"] = df.Tweet.apply(clean_tweet)"
   ]
  },
  {
   "cell_type": "code",
   "execution_count": 13,
   "id": "5efabcea",
   "metadata": {},
   "outputs": [],
   "source": [
    "df[\"Sentiment\"] = df.Tweet.apply(analyze_sentiment)"
   ]
  },
  {
   "cell_type": "code",
   "execution_count": 14,
   "id": "63fdb5fd",
   "metadata": {},
   "outputs": [
    {
     "data": {
      "text/html": [
       "<div>\n",
       "<style scoped>\n",
       "    .dataframe tbody tr th:only-of-type {\n",
       "        vertical-align: middle;\n",
       "    }\n",
       "\n",
       "    .dataframe tbody tr th {\n",
       "        vertical-align: top;\n",
       "    }\n",
       "\n",
       "    .dataframe thead th {\n",
       "        text-align: right;\n",
       "    }\n",
       "</style>\n",
       "<table border=\"1\" class=\"dataframe\">\n",
       "  <thead>\n",
       "    <tr style=\"text-align: right;\">\n",
       "      <th></th>\n",
       "      <th>Date</th>\n",
       "      <th>User</th>\n",
       "      <th>IsVerified</th>\n",
       "      <th>Tweet</th>\n",
       "      <th>Likes</th>\n",
       "      <th>RT</th>\n",
       "      <th>User_location</th>\n",
       "      <th>Sentiment</th>\n",
       "    </tr>\n",
       "  </thead>\n",
       "  <tbody>\n",
       "    <tr>\n",
       "      <th>0</th>\n",
       "      <td>2021-06-07 16:35:14</td>\n",
       "      <td>colleen</td>\n",
       "      <td>False</td>\n",
       "      <td>man like i worked from home last year before m...</td>\n",
       "      <td>0</td>\n",
       "      <td>0</td>\n",
       "      <td></td>\n",
       "      <td>Positive</td>\n",
       "    </tr>\n",
       "    <tr>\n",
       "      <th>1</th>\n",
       "      <td>2021-06-07 16:35:13</td>\n",
       "      <td>Cerco Response</td>\n",
       "      <td>False</td>\n",
       "      <td>the number of young people out of work has rea...</td>\n",
       "      <td>0</td>\n",
       "      <td>0</td>\n",
       "      <td></td>\n",
       "      <td>Positive</td>\n",
       "    </tr>\n",
       "    <tr>\n",
       "      <th>2</th>\n",
       "      <td>2021-06-07 16:35:13</td>\n",
       "      <td>Naveen Kapoor ANI</td>\n",
       "      <td>True</td>\n",
       "      <td>this is an achievement of us admin getting rid...</td>\n",
       "      <td>0</td>\n",
       "      <td>0</td>\n",
       "      <td>New Delhi, India</td>\n",
       "      <td>Neutral</td>\n",
       "    </tr>\n",
       "    <tr>\n",
       "      <th>3</th>\n",
       "      <td>2021-06-07 16:35:13</td>\n",
       "      <td>Nurul 🐥🌅</td>\n",
       "      <td>False</td>\n",
       "      <td>thank you buat spaceeeee aaa rindu nk kumpul s...</td>\n",
       "      <td>0</td>\n",
       "      <td>0</td>\n",
       "      <td>Malaysia</td>\n",
       "      <td>Neutral</td>\n",
       "    </tr>\n",
       "    <tr>\n",
       "      <th>4</th>\n",
       "      <td>2021-06-07 16:35:12</td>\n",
       "      <td>Thailand epilepsy</td>\n",
       "      <td>False</td>\n",
       "      <td>covid 19 vaccination and epilepsy sd 480p via</td>\n",
       "      <td>0</td>\n",
       "      <td>0</td>\n",
       "      <td>Epilepsy, BANGKOK, THAILAND</td>\n",
       "      <td>Neutral</td>\n",
       "    </tr>\n",
       "    <tr>\n",
       "      <th>...</th>\n",
       "      <td>...</td>\n",
       "      <td>...</td>\n",
       "      <td>...</td>\n",
       "      <td>...</td>\n",
       "      <td>...</td>\n",
       "      <td>...</td>\n",
       "      <td>...</td>\n",
       "      <td>...</td>\n",
       "    </tr>\n",
       "    <tr>\n",
       "      <th>96</th>\n",
       "      <td>2021-06-07 16:34:47</td>\n",
       "      <td>Prabha 🇨🇮💐🌻</td>\n",
       "      <td>False</td>\n",
       "      <td>we can only tweet or retweet or comment upon b...</td>\n",
       "      <td>0</td>\n",
       "      <td>0</td>\n",
       "      <td>New Delhi, India</td>\n",
       "      <td>Positive</td>\n",
       "    </tr>\n",
       "    <tr>\n",
       "      <th>97</th>\n",
       "      <td>2021-06-07 16:34:47</td>\n",
       "      <td>Dahlia Wakeman</td>\n",
       "      <td>False</td>\n",
       "      <td>are you comparing the 215 children s bodies fo...</td>\n",
       "      <td>0</td>\n",
       "      <td>0</td>\n",
       "      <td></td>\n",
       "      <td>Neutral</td>\n",
       "    </tr>\n",
       "    <tr>\n",
       "      <th>98</th>\n",
       "      <td>2021-06-07 16:34:46</td>\n",
       "      <td>Rajeev Godara</td>\n",
       "      <td>False</td>\n",
       "      <td>supreme court said and how the prime minister ...</td>\n",
       "      <td>0</td>\n",
       "      <td>0</td>\n",
       "      <td>Chandigarh, India</td>\n",
       "      <td>Positive</td>\n",
       "    </tr>\n",
       "    <tr>\n",
       "      <th>99</th>\n",
       "      <td>2021-06-07 16:34:46</td>\n",
       "      <td>ILee WINS</td>\n",
       "      <td>False</td>\n",
       "      <td>breaking to lift remaining covid rules once 70...</td>\n",
       "      <td>0</td>\n",
       "      <td>0</td>\n",
       "      <td></td>\n",
       "      <td>Negative</td>\n",
       "    </tr>\n",
       "    <tr>\n",
       "      <th>100</th>\n",
       "      <td>2021-06-07 16:34:45</td>\n",
       "      <td>S. C. Morgan</td>\n",
       "      <td>False</td>\n",
       "      <td>full week at work this time around we ve got h...</td>\n",
       "      <td>0</td>\n",
       "      <td>0</td>\n",
       "      <td>Burlington, Ontario</td>\n",
       "      <td>Positive</td>\n",
       "    </tr>\n",
       "  </tbody>\n",
       "</table>\n",
       "<p>101 rows × 8 columns</p>\n",
       "</div>"
      ],
      "text/plain": [
       "                    Date               User IsVerified  \\\n",
       "0    2021-06-07 16:35:14            colleen      False   \n",
       "1    2021-06-07 16:35:13     Cerco Response      False   \n",
       "2    2021-06-07 16:35:13  Naveen Kapoor ANI       True   \n",
       "3    2021-06-07 16:35:13           Nurul 🐥🌅      False   \n",
       "4    2021-06-07 16:35:12  Thailand epilepsy      False   \n",
       "..                   ...                ...        ...   \n",
       "96   2021-06-07 16:34:47        Prabha 🇨🇮💐🌻      False   \n",
       "97   2021-06-07 16:34:47     Dahlia Wakeman      False   \n",
       "98   2021-06-07 16:34:46      Rajeev Godara      False   \n",
       "99   2021-06-07 16:34:46          ILee WINS      False   \n",
       "100  2021-06-07 16:34:45       S. C. Morgan      False   \n",
       "\n",
       "                                                 Tweet Likes RT  \\\n",
       "0    man like i worked from home last year before m...     0  0   \n",
       "1    the number of young people out of work has rea...     0  0   \n",
       "2    this is an achievement of us admin getting rid...     0  0   \n",
       "3    thank you buat spaceeeee aaa rindu nk kumpul s...     0  0   \n",
       "4        covid 19 vaccination and epilepsy sd 480p via     0  0   \n",
       "..                                                 ...   ... ..   \n",
       "96   we can only tweet or retweet or comment upon b...     0  0   \n",
       "97   are you comparing the 215 children s bodies fo...     0  0   \n",
       "98   supreme court said and how the prime minister ...     0  0   \n",
       "99   breaking to lift remaining covid rules once 70...     0  0   \n",
       "100  full week at work this time around we ve got h...     0  0   \n",
       "\n",
       "                   User_location Sentiment  \n",
       "0                                 Positive  \n",
       "1                                 Positive  \n",
       "2               New Delhi, India   Neutral  \n",
       "3                       Malaysia   Neutral  \n",
       "4    Epilepsy, BANGKOK, THAILAND   Neutral  \n",
       "..                           ...       ...  \n",
       "96              New Delhi, India  Positive  \n",
       "97                                 Neutral  \n",
       "98             Chandigarh, India  Positive  \n",
       "99                                Negative  \n",
       "100          Burlington, Ontario  Positive  \n",
       "\n",
       "[101 rows x 8 columns]"
      ]
     },
     "execution_count": 14,
     "metadata": {},
     "output_type": "execute_result"
    }
   ],
   "source": [
    "df"
   ]
  },
  {
   "cell_type": "code",
   "execution_count": 15,
   "id": "c69489d4",
   "metadata": {},
   "outputs": [
    {
     "name": "stdout",
     "output_type": "stream",
     "text": [
      "Total Tweets Extracted for Topic : ['covid'] are : 101\n",
      "Total Positive Tweets are : 44\n",
      "Total Negative Tweets are : 12\n",
      "Total Neutral Tweets are : 45\n"
     ]
    }
   ],
   "source": [
    "print(\"Total Tweets Extracted for Topic : {} are : {}\".format(Topic,len(df.Tweet)))\n",
    "print(\"Total Positive Tweets are : {}\".format(len(df[df[\"Sentiment\"]==\"Positive\"])))\n",
    "print(\"Total Negative Tweets are : {}\".format(len(df[df[\"Sentiment\"]==\"Negative\"])))\n",
    "print(\"Total Neutral Tweets are : {}\".format(len(df[df[\"Sentiment\"]==\"Neutral\"])))"
   ]
  },
  {
   "cell_type": "code",
   "execution_count": 69,
   "id": "549a49f3",
   "metadata": {},
   "outputs": [
    {
     "name": "stderr",
     "output_type": "stream",
     "text": [
      "[nltk_data] Downloading package stopwords to\n",
      "[nltk_data]     /Users/Carmenrodriguez/nltk_data...\n",
      "[nltk_data]   Package stopwords is already up-to-date!\n"
     ]
    },
    {
     "data": {
      "text/plain": [
       "True"
      ]
     },
     "execution_count": 69,
     "metadata": {},
     "output_type": "execute_result"
    }
   ],
   "source": [
    "nltk.download('stopwords')"
   ]
  },
  {
   "cell_type": "code",
   "execution_count": 16,
   "id": "2c966605",
   "metadata": {},
   "outputs": [],
   "source": [
    "def wordcloud_tweet(tweets):\n",
    "    \"\"\"\n",
    "    Most-tweeted words in texts containing the covid-19 vaccine seeing with word cloud\n",
    "    Args:\n",
    "        tweets: the text that is going to be stop\n",
    "    \"\"\"\n",
    "    stopwords = set(STOPWORDS)\n",
    "    stopwords.update([\"covid\", \"covid19\", \"vaccines\", \"vaccine\", \"will\", \"coronavirus\", \"next\", \"yes\", \"s\", \"t\", \"still\"])\n",
    "    wordcloud = WordCloud(max_font_size=50, max_words=100, background_color=\"white\",stopwords=stopwords, random_state = 2016).generate(\" \".join([i for i in tweets['Tweet'].str.upper()]))\n",
    "    plt.imshow(wordcloud, interpolation=\"bilinear\")\n",
    "    plt.axis(\"off\")"
   ]
  },
  {
   "cell_type": "code",
   "execution_count": 17,
   "id": "1bb70811",
   "metadata": {},
   "outputs": [
    {
     "data": {
      "image/png": "[encoded data removed]",
      "text/plain": [
       "<Figure size 432x288 with 1 Axes>"
      ]
     },
     "metadata": {
      "needs_background": "light"
     },
     "output_type": "display_data"
    }
   ],
   "source": [
    "wordcloud_tweet(df)"
   ]
  },
  {
   "cell_type": "code",
   "execution_count": null,
   "id": "3702fc80",
   "metadata": {},
   "outputs": [],
   "source": []
  }
 ],
 "metadata": {
  "kernelspec": {
   "display_name": "ironhack",
   "language": "python",
   "name": "ironhack"
  },
  "language_info": {
   "codemirror_mode": {
    "name": "ipython",
    "version": 3
   },
   "file_extension": ".py",
   "mimetype": "text/x-python",
   "name": "python",
   "nbconvert_exporter": "python",
   "pygments_lexer": "ipython3",
   "version": "3.8.8"
  }
 },
 "nbformat": 4,
 "nbformat_minor": 5
}
